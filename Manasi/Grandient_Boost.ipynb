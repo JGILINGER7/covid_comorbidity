{
 "cells": [
  {
   "cell_type": "code",
   "execution_count": 1,
   "id": "f02998da",
   "metadata": {},
   "outputs": [],
   "source": [
    "import pandas as pd\n",
    "import matplotlib.pyplot as plt\n",
    "import numpy as np"
   ]
  },
  {
   "cell_type": "code",
   "execution_count": 2,
   "id": "49eeb55f",
   "metadata": {},
   "outputs": [],
   "source": [
    "from sklearn.model_selection import train_test_split\n",
    "from sklearn.preprocessing import StandardScaler\n",
    "from collections import Counter\n",
    "from sklearn.ensemble import GradientBoostingClassifier\n",
    "from sklearn.metrics import accuracy_score, classification_report\n",
    "from sklearn.metrics import confusion_matrix\n",
    "from sklearn.model_selection import GridSearchCV"
   ]
  },
  {
   "cell_type": "code",
   "execution_count": 3,
   "id": "7783c869",
   "metadata": {},
   "outputs": [
    {
     "data": {
      "text/html": [
       "<div>\n",
       "<style scoped>\n",
       "    .dataframe tbody tr th:only-of-type {\n",
       "        vertical-align: middle;\n",
       "    }\n",
       "\n",
       "    .dataframe tbody tr th {\n",
       "        vertical-align: top;\n",
       "    }\n",
       "\n",
       "    .dataframe thead th {\n",
       "        text-align: right;\n",
       "    }\n",
       "</style>\n",
       "<table border=\"1\" class=\"dataframe\">\n",
       "  <thead>\n",
       "    <tr style=\"text-align: right;\">\n",
       "      <th></th>\n",
       "      <th>id</th>\n",
       "      <th>age (years)</th>\n",
       "      <th>gender</th>\n",
       "      <th>BMI</th>\n",
       "      <th>ap_hi</th>\n",
       "      <th>ap_lo</th>\n",
       "      <th>cholesterol</th>\n",
       "      <th>gluc</th>\n",
       "      <th>smoke</th>\n",
       "      <th>alco</th>\n",
       "      <th>active</th>\n",
       "      <th>cardio</th>\n",
       "    </tr>\n",
       "  </thead>\n",
       "  <tbody>\n",
       "    <tr>\n",
       "      <th>0</th>\n",
       "      <td>0</td>\n",
       "      <td>50</td>\n",
       "      <td>2</td>\n",
       "      <td>22.015308</td>\n",
       "      <td>110</td>\n",
       "      <td>80</td>\n",
       "      <td>1</td>\n",
       "      <td>1</td>\n",
       "      <td>0</td>\n",
       "      <td>0</td>\n",
       "      <td>1</td>\n",
       "      <td>0</td>\n",
       "    </tr>\n",
       "    <tr>\n",
       "      <th>1</th>\n",
       "      <td>1</td>\n",
       "      <td>55</td>\n",
       "      <td>1</td>\n",
       "      <td>34.850994</td>\n",
       "      <td>140</td>\n",
       "      <td>90</td>\n",
       "      <td>3</td>\n",
       "      <td>1</td>\n",
       "      <td>0</td>\n",
       "      <td>0</td>\n",
       "      <td>1</td>\n",
       "      <td>1</td>\n",
       "    </tr>\n",
       "    <tr>\n",
       "      <th>2</th>\n",
       "      <td>2</td>\n",
       "      <td>51</td>\n",
       "      <td>1</td>\n",
       "      <td>23.489511</td>\n",
       "      <td>130</td>\n",
       "      <td>70</td>\n",
       "      <td>3</td>\n",
       "      <td>1</td>\n",
       "      <td>0</td>\n",
       "      <td>0</td>\n",
       "      <td>0</td>\n",
       "      <td>1</td>\n",
       "    </tr>\n",
       "    <tr>\n",
       "      <th>3</th>\n",
       "      <td>3</td>\n",
       "      <td>48</td>\n",
       "      <td>2</td>\n",
       "      <td>28.742724</td>\n",
       "      <td>150</td>\n",
       "      <td>100</td>\n",
       "      <td>1</td>\n",
       "      <td>1</td>\n",
       "      <td>0</td>\n",
       "      <td>0</td>\n",
       "      <td>1</td>\n",
       "      <td>1</td>\n",
       "    </tr>\n",
       "    <tr>\n",
       "      <th>4</th>\n",
       "      <td>4</td>\n",
       "      <td>47</td>\n",
       "      <td>1</td>\n",
       "      <td>22.923381</td>\n",
       "      <td>100</td>\n",
       "      <td>60</td>\n",
       "      <td>1</td>\n",
       "      <td>1</td>\n",
       "      <td>0</td>\n",
       "      <td>0</td>\n",
       "      <td>0</td>\n",
       "      <td>0</td>\n",
       "    </tr>\n",
       "  </tbody>\n",
       "</table>\n",
       "</div>"
      ],
      "text/plain": [
       "   id  age (years)  gender        BMI  ap_hi  ap_lo  cholesterol  gluc  smoke  \\\n",
       "0   0           50       2  22.015308    110     80            1     1      0   \n",
       "1   1           55       1  34.850994    140     90            3     1      0   \n",
       "2   2           51       1  23.489511    130     70            3     1      0   \n",
       "3   3           48       2  28.742724    150    100            1     1      0   \n",
       "4   4           47       1  22.923381    100     60            1     1      0   \n",
       "\n",
       "   alco  active  cardio  \n",
       "0     0       1       0  \n",
       "1     0       1       1  \n",
       "2     0       0       1  \n",
       "3     0       1       1  \n",
       "4     0       0       0  "
      ]
     },
     "execution_count": 3,
     "metadata": {},
     "output_type": "execute_result"
    }
   ],
   "source": [
    "heart_df=pd.read_csv(\"resources/cleaner_bmi.csv\")\n",
    "heart_df.head()"
   ]
  },
  {
   "cell_type": "code",
   "execution_count": 4,
   "id": "11d24d82",
   "metadata": {},
   "outputs": [
    {
     "data": {
      "text/plain": [
       "Index(['id', 'age (years)', 'gender', 'BMI', 'ap_hi', 'ap_lo', 'cholesterol',\n",
       "       'gluc', 'smoke', 'alco', 'active', 'cardio'],\n",
       "      dtype='object')"
      ]
     },
     "execution_count": 4,
     "metadata": {},
     "output_type": "execute_result"
    }
   ],
   "source": [
    "heart_df.columns"
   ]
  },
  {
   "cell_type": "code",
   "execution_count": 5,
   "id": "a08d5f68",
   "metadata": {},
   "outputs": [],
   "source": [
    "y = heart_df[\"cardio\"]\n",
    "X = heart_df.drop([\"id\",\"cardio\"], axis=1)"
   ]
  },
  {
   "cell_type": "code",
   "execution_count": 6,
   "id": "c97d916a",
   "metadata": {},
   "outputs": [
    {
     "data": {
      "text/plain": [
       "0    33661\n",
       "1    32178\n",
       "Name: cardio, dtype: int64"
      ]
     },
     "execution_count": 6,
     "metadata": {},
     "output_type": "execute_result"
    }
   ],
   "source": [
    "heart_df[\"cardio\"].value_counts()"
   ]
  },
  {
   "cell_type": "code",
   "execution_count": 7,
   "id": "f4b7d4e4",
   "metadata": {},
   "outputs": [
    {
     "data": {
      "text/plain": [
       "(49379, 10)"
      ]
     },
     "execution_count": 7,
     "metadata": {},
     "output_type": "execute_result"
    }
   ],
   "source": [
    "X_train, X_test, y_train, y_test = train_test_split(X,y,random_state=78)\n",
    "X_train.shape"
   ]
  },
  {
   "cell_type": "code",
   "execution_count": 8,
   "id": "d88421e9",
   "metadata": {},
   "outputs": [],
   "source": [
    "# Creating StandardScaler instance\n",
    "scaler = StandardScaler()\n",
    "\n",
    "# Fitting Standard Scaller\n",
    "X_scaler = scaler.fit(X_train)\n",
    "\n",
    "# Scaling data\n",
    "X_train_scaled = X_scaler.transform(X_train)\n",
    "X_test_scaled = X_scaler.transform(X_test)"
   ]
  },
  {
   "cell_type": "code",
   "execution_count": 9,
   "id": "86724dfa",
   "metadata": {},
   "outputs": [],
   "source": [
    "# Create a classifier object\n",
    "# learning_rates = [0.05, 0.1, 0.25, 0.5, 0.75, 1]\n",
    "# for learning_rate in learning_rates:\n",
    "#     classifier = GradientBoostingClassifier(n_estimators=10,\n",
    "#                                             learning_rate=learning_rate,\n",
    "#                                             max_features=5,\n",
    "#                                             max_depth=5,\n",
    "#                                             random_state=0)\n",
    "\n",
    "#     # Fit the model\n",
    "#     classifier.fit(X_train, y_train)\n",
    "#     print(\"Learning rate: \", learning_rate)\n",
    "\n",
    "#     # Score the model\n",
    "#     print(\"Accuracy score (training): {0:.3f}\".format(\n",
    "#         classifier.score(\n",
    "#             X_train,\n",
    "#             y_train)))\n",
    "#     print(\"Accuracy score (validation): {0:.3f}\".format(\n",
    "#         classifier.score(\n",
    "#             X_test,\n",
    "#             y_test)))\n",
    "#     print()"
   ]
  },
  {
   "cell_type": "code",
   "execution_count": 10,
   "id": "a617a03b",
   "metadata": {},
   "outputs": [
    {
     "data": {
      "text/html": [
       "<div>\n",
       "<style scoped>\n",
       "    .dataframe tbody tr th:only-of-type {\n",
       "        vertical-align: middle;\n",
       "    }\n",
       "\n",
       "    .dataframe tbody tr th {\n",
       "        vertical-align: top;\n",
       "    }\n",
       "\n",
       "    .dataframe thead th {\n",
       "        text-align: right;\n",
       "    }\n",
       "</style>\n",
       "<table border=\"1\" class=\"dataframe\">\n",
       "  <thead>\n",
       "    <tr style=\"text-align: right;\">\n",
       "      <th></th>\n",
       "      <th>Prediction</th>\n",
       "      <th>Actual</th>\n",
       "    </tr>\n",
       "  </thead>\n",
       "  <tbody>\n",
       "    <tr>\n",
       "      <th>815</th>\n",
       "      <td>1</td>\n",
       "      <td>1</td>\n",
       "    </tr>\n",
       "    <tr>\n",
       "      <th>7536</th>\n",
       "      <td>1</td>\n",
       "      <td>1</td>\n",
       "    </tr>\n",
       "    <tr>\n",
       "      <th>19670</th>\n",
       "      <td>0</td>\n",
       "      <td>1</td>\n",
       "    </tr>\n",
       "    <tr>\n",
       "      <th>25782</th>\n",
       "      <td>0</td>\n",
       "      <td>1</td>\n",
       "    </tr>\n",
       "    <tr>\n",
       "      <th>13329</th>\n",
       "      <td>0</td>\n",
       "      <td>1</td>\n",
       "    </tr>\n",
       "    <tr>\n",
       "      <th>31379</th>\n",
       "      <td>1</td>\n",
       "      <td>1</td>\n",
       "    </tr>\n",
       "    <tr>\n",
       "      <th>1701</th>\n",
       "      <td>1</td>\n",
       "      <td>1</td>\n",
       "    </tr>\n",
       "    <tr>\n",
       "      <th>21718</th>\n",
       "      <td>1</td>\n",
       "      <td>1</td>\n",
       "    </tr>\n",
       "    <tr>\n",
       "      <th>25078</th>\n",
       "      <td>1</td>\n",
       "      <td>1</td>\n",
       "    </tr>\n",
       "    <tr>\n",
       "      <th>48149</th>\n",
       "      <td>1</td>\n",
       "      <td>1</td>\n",
       "    </tr>\n",
       "  </tbody>\n",
       "</table>\n",
       "</div>"
      ],
      "text/plain": [
       "       Prediction  Actual\n",
       "815             1       1\n",
       "7536            1       1\n",
       "19670           0       1\n",
       "25782           0       1\n",
       "13329           0       1\n",
       "31379           1       1\n",
       "1701            1       1\n",
       "21718           1       1\n",
       "25078           1       1\n",
       "48149           1       1"
      ]
     },
     "execution_count": 10,
     "metadata": {},
     "output_type": "execute_result"
    }
   ],
   "source": [
    "# Choose a learning rate and create classifier\n",
    "classifier = GradientBoostingClassifier(n_estimators=10,\n",
    "                                        learning_rate=0.5,\n",
    "                                        max_features=5,\n",
    "                                        max_depth=5,\n",
    "                                        random_state=0)\n",
    "\n",
    "# Fit the model\n",
    "classifier.fit(X_train, y_train)\n",
    "\n",
    "# Make Prediction\n",
    "predictions = classifier.predict(X_test)\n",
    "pd.DataFrame({\"Prediction\": predictions, \"Actual\": y_test}).head(10)"
   ]
  },
  {
   "cell_type": "code",
   "execution_count": 11,
   "id": "5434c74e",
   "metadata": {},
   "outputs": [
    {
     "name": "stdout",
     "output_type": "stream",
     "text": [
      "Accuracy Score : 0.7416160388821386\n"
     ]
    }
   ],
   "source": [
    "# Calculating the accuracy score\n",
    "acc_score = accuracy_score(y_test, predictions)\n",
    "print(f\"Accuracy Score : {acc_score}\")"
   ]
  },
  {
   "cell_type": "code",
   "execution_count": 12,
   "id": "af9fb193",
   "metadata": {},
   "outputs": [
    {
     "data": {
      "text/html": [
       "<div>\n",
       "<style scoped>\n",
       "    .dataframe tbody tr th:only-of-type {\n",
       "        vertical-align: middle;\n",
       "    }\n",
       "\n",
       "    .dataframe tbody tr th {\n",
       "        vertical-align: top;\n",
       "    }\n",
       "\n",
       "    .dataframe thead th {\n",
       "        text-align: right;\n",
       "    }\n",
       "</style>\n",
       "<table border=\"1\" class=\"dataframe\">\n",
       "  <thead>\n",
       "    <tr style=\"text-align: right;\">\n",
       "      <th></th>\n",
       "      <th>Predicted 0</th>\n",
       "      <th>Predicted 1</th>\n",
       "    </tr>\n",
       "  </thead>\n",
       "  <tbody>\n",
       "    <tr>\n",
       "      <th>Actual 0</th>\n",
       "      <td>6706</td>\n",
       "      <td>1696</td>\n",
       "    </tr>\n",
       "    <tr>\n",
       "      <th>Actual 1</th>\n",
       "      <td>2557</td>\n",
       "      <td>5501</td>\n",
       "    </tr>\n",
       "  </tbody>\n",
       "</table>\n",
       "</div>"
      ],
      "text/plain": [
       "          Predicted 0  Predicted 1\n",
       "Actual 0         6706         1696\n",
       "Actual 1         2557         5501"
      ]
     },
     "metadata": {},
     "output_type": "display_data"
    }
   ],
   "source": [
    "# Generate the confusion matrix\n",
    "cm = confusion_matrix(y_test, predictions)\n",
    "cm_df = pd.DataFrame(\n",
    "    cm, index=[\"Actual 0\", \"Actual 1\"],\n",
    "    columns=[\"Predicted 0\", \"Predicted 1\"]\n",
    ")\n",
    "\n",
    "# Displaying results\n",
    "display(cm_df)"
   ]
  },
  {
   "cell_type": "code",
   "execution_count": 13,
   "id": "fef5b0f6",
   "metadata": {},
   "outputs": [
    {
     "name": "stdout",
     "output_type": "stream",
     "text": [
      "Classification Report\n",
      "              precision    recall  f1-score   support\n",
      "\n",
      "           0       0.72      0.80      0.76      8402\n",
      "           1       0.76      0.68      0.72      8058\n",
      "\n",
      "    accuracy                           0.74     16460\n",
      "   macro avg       0.74      0.74      0.74     16460\n",
      "weighted avg       0.74      0.74      0.74     16460\n",
      "\n"
     ]
    }
   ],
   "source": [
    "# Generate classification report\n",
    "print(\"Classification Report\")\n",
    "print(classification_report(y_test, predictions))"
   ]
  },
  {
   "cell_type": "code",
   "execution_count": 14,
   "id": "dd9fc1aa",
   "metadata": {},
   "outputs": [
    {
     "data": {
      "text/plain": [
       "array([0.1204525 , 0.00097065, 0.02733458, 0.72189056, 0.02152364,\n",
       "       0.0848113 , 0.00770463, 0.00440655, 0.00240115, 0.00850444])"
      ]
     },
     "execution_count": 14,
     "metadata": {},
     "output_type": "execute_result"
    }
   ],
   "source": [
    "# Calculate feature importance in the Gradient Boosting.\n",
    "importances = classifier.feature_importances_\n",
    "importances"
   ]
  },
  {
   "cell_type": "code",
   "execution_count": 15,
   "id": "de065cb9",
   "metadata": {},
   "outputs": [
    {
     "data": {
      "text/plain": [
       "[(0.7218905593492365, 'ap_hi'),\n",
       " (0.12045249821354982, 'age (years)'),\n",
       " (0.08481130120024699, 'cholesterol'),\n",
       " (0.02733457837214497, 'BMI'),\n",
       " (0.02152364189295545, 'ap_lo'),\n",
       " (0.00850443547477467, 'active'),\n",
       " (0.0077046318524487895, 'gluc'),\n",
       " (0.0044065487236198886, 'smoke'),\n",
       " (0.0024011522938161187, 'alco'),\n",
       " (0.0009706526272070112, 'gender')]"
      ]
     },
     "execution_count": 15,
     "metadata": {},
     "output_type": "execute_result"
    }
   ],
   "source": [
    "# We can sort the features by their importance.\n",
    "sorted(zip(classifier.feature_importances_, X.columns), reverse=True)"
   ]
  },
  {
   "cell_type": "code",
   "execution_count": 16,
   "id": "c291321b",
   "metadata": {},
   "outputs": [
    {
     "data": {
      "text/plain": [
       "['classifier.joblib']"
      ]
     },
     "execution_count": 16,
     "metadata": {},
     "output_type": "execute_result"
    }
   ],
   "source": [
    "from joblib import dump\n",
    "\n",
    "# Save your model to a file using joblib\n",
    "dump(classifier, 'classifier.joblib')"
   ]
  },
  {
   "cell_type": "code",
   "execution_count": 17,
   "id": "02254894",
   "metadata": {},
   "outputs": [],
   "source": [
    "from joblib import load\n",
    "\n",
    "# Load your model from file\n",
    "model = load('classifier.joblib')"
   ]
  },
  {
   "cell_type": "code",
   "execution_count": 18,
   "id": "5266a644",
   "metadata": {},
   "outputs": [
    {
     "name": "stdout",
     "output_type": "stream",
     "text": [
      "0.5\n"
     ]
    }
   ],
   "source": [
    "print(classifier.learning_rate)"
   ]
  },
  {
   "cell_type": "code",
   "execution_count": 21,
   "id": "256c996e",
   "metadata": {},
   "outputs": [
    {
     "name": "stdout",
     "output_type": "stream",
     "text": [
      "[[DecisionTreeRegressor(criterion='friedman_mse', max_depth=5, max_features=5,\n",
      "                        random_state=RandomState(MT19937) at 0x25D19FC8440)   ]\n",
      " [DecisionTreeRegressor(criterion='friedman_mse', max_depth=5, max_features=5,\n",
      "                        random_state=RandomState(MT19937) at 0x25D19FC8440)   ]\n",
      " [DecisionTreeRegressor(criterion='friedman_mse', max_depth=5, max_features=5,\n",
      "                        random_state=RandomState(MT19937) at 0x25D19FC8440)   ]\n",
      " [DecisionTreeRegressor(criterion='friedman_mse', max_depth=5, max_features=5,\n",
      "                        random_state=RandomState(MT19937) at 0x25D19FC8440)   ]\n",
      " [DecisionTreeRegressor(criterion='friedman_mse', max_depth=5, max_features=5,\n",
      "                        random_state=RandomState(MT19937) at 0x25D19FC8440)   ]\n",
      " [DecisionTreeRegressor(criterion='friedman_mse', max_depth=5, max_features=5,\n",
      "                        random_state=RandomState(MT19937) at 0x25D19FC8440)   ]\n",
      " [DecisionTreeRegressor(criterion='friedman_mse', max_depth=5, max_features=5,\n",
      "                        random_state=RandomState(MT19937) at 0x25D19FC8440)   ]\n",
      " [DecisionTreeRegressor(criterion='friedman_mse', max_depth=5, max_features=5,\n",
      "                        random_state=RandomState(MT19937) at 0x25D19FC8440)   ]\n",
      " [DecisionTreeRegressor(criterion='friedman_mse', max_depth=5, max_features=5,\n",
      "                        random_state=RandomState(MT19937) at 0x25D19FC8440)   ]\n",
      " [DecisionTreeRegressor(criterion='friedman_mse', max_depth=5, max_features=5,\n",
      "                        random_state=RandomState(MT19937) at 0x25D19FC8440)   ]]\n"
     ]
    }
   ],
   "source": [
    "print(classifier.estimators_)"
   ]
  },
  {
   "cell_type": "code",
   "execution_count": 22,
   "id": "47f90c38",
   "metadata": {},
   "outputs": [
    {
     "data": {
      "text/plain": [
       "[1.1882311775434298,\n",
       " 1.1243499348294637,\n",
       " 1.100869625262031,\n",
       " 1.0898605649877025,\n",
       " 1.084567105970436,\n",
       " 1.0804835616692523,\n",
       " 1.0778827354021778,\n",
       " 1.0755730578984786,\n",
       " 1.0735758352241345,\n",
       " 1.07187514559791]"
      ]
     },
     "execution_count": 22,
     "metadata": {},
     "output_type": "execute_result"
    }
   ],
   "source": [
    "list(classifier.train_score_)"
   ]
  },
  {
   "cell_type": "code",
   "execution_count": 29,
   "id": "ee360e46",
   "metadata": {},
   "outputs": [],
   "source": [
    "import json\n",
    "# Convert the model to a dictionary\n",
    "model_dict = {\n",
    "    'n_features_': model.n_features_in_,\n",
    "    'estimators_': [\n",
    "        {\n",
    "            'n_estimators': model.n_estimators,\n",
    "            'learning_rate': model.learning_rate,\n",
    "#             'tree_': model.tree_.to_dict(),\n",
    "            'train_score_': list(model.train_score_),\n",
    "            'init': model.init,\n",
    "            'loss': model.loss,\n",
    "            'n_features_': model.n_features_,\n",
    "            'max_features': model.max_features,\n",
    "            'verbose': model.verbose,\n",
    "            'random_state': model.random_state,\n",
    "#             'presort': model.presort,\n",
    "        } for est in model.estimators_\n",
    "    ],\n",
    "    'train_score_': list(model.train_score_)\n",
    "}\n",
    "\n",
    "# Serialize the model to JSON\n",
    "model_json = json.dumps(model_dict)\n",
    "\n",
    "# Save the JSON string to a file\n",
    "with open('model.json', 'w') as file:\n",
    "    file.write(model_json)"
   ]
  },
  {
   "cell_type": "code",
   "execution_count": null,
   "id": "07f70a57",
   "metadata": {},
   "outputs": [],
   "source": []
  }
 ],
 "metadata": {
  "kernelspec": {
   "display_name": "mlenv",
   "language": "python",
   "name": "mlenv"
  },
  "language_info": {
   "codemirror_mode": {
    "name": "ipython",
    "version": 3
   },
   "file_extension": ".py",
   "mimetype": "text/x-python",
   "name": "python",
   "nbconvert_exporter": "python",
   "pygments_lexer": "ipython3",
   "version": "3.9.16"
  }
 },
 "nbformat": 4,
 "nbformat_minor": 5
}
